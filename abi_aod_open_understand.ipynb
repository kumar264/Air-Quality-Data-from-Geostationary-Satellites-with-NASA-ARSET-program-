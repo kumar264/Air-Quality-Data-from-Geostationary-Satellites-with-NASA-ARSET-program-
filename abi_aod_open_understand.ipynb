{
 "cells": [
  {
   "cell_type": "code",
   "execution_count": null,
   "metadata": {},
   "outputs": [],
   "source": [
    "# Block 0: Documentation\n",
    "\n",
    "print('Code to open, read the metadata, and understand the contents of an ABI L2 AOD data file\\n')\n",
    "print('Includes a function to calculate latitude and longitude in degrees from the GOES ABI fixed grid projection variables and contstants in an ABI file\\n')\n",
    "print('Version 2.0, November 16, 2021\\n')\n",
    "print('Written using using Python v3.9 and netCDF4 v1.5.7\\n')\n",
    "print('Author: Dr. Amy Huff (IMSG at NOAA/NESDIS/STAR), amy.huff@noaa.gov\\n')\n",
    "print('Block 1 imports modules and libraries, and Block 2 opens the data file; there is no visible output from these blocks. Blocks 2-10 are stand-alone commands to open/view metadata and data in the file. Blocks 11-12 demonstrate how to calculate latitude and longitude from the GOES ABI fixed grid projection data.\\n')\n",
    "print('**Please acknowledge the NOAA/NESDIS/STAR Aerosols and Atmospheric Composition Science Team if using any of this code in your work/research!**')"
   ]
  },
  {
   "cell_type": "code",
   "execution_count": null,
   "metadata": {},
   "outputs": [],
   "source": [
    "# Block 1: Import Python packages\n",
    "\n",
    "# Library to work with netCDF files\n",
    "from netCDF4 import Dataset\n",
    "\n",
    "# Library to perform array operations\n",
    "import numpy as np \n",
    "\n",
    "# Module to set filesystem paths appropriate for user's operating system\n",
    "from pathlib import Path"
   ]
  },
  {
   "cell_type": "code",
   "execution_count": null,
   "metadata": {},
   "outputs": [],
   "source": [
    "# Block 2: Open an ABI aerosol optical depth (AOD) netCDF4 data file\n",
    "# Ensure the data file is in the current working directory(cwd)!\n",
    "\n",
    "# Set file name and directory where file is located\n",
    "# We use the pathlib.Path module to set directory to avoid potential errors arising from user's OS\n",
    "file_path = Path.cwd()  # Current working directory\n",
    "file_name = 'OR_ABI-L2-AODF-M6_G16_s20222501400205_e20222501409513_c20222501412051.nc'  # One of the files we downloaded\n",
    "fname = file_path / file_name  # This is the full file name (directory + file) using pathlib.Path syntax\n",
    "\n",
    "# Open the specified file using the netCDF4 library\n",
    "file_id = Dataset(fname)"
   ]
  },
  {
   "cell_type": "code",
   "execution_count": null,
   "metadata": {},
   "outputs": [],
   "source": [
    "# Block 3: Print the metadata for the entire file\n",
    "\n",
    "print(file_id)"
   ]
  },
  {
   "cell_type": "code",
   "execution_count": null,
   "metadata": {},
   "outputs": [],
   "source": [
    "# Block 4: Print the \"AOD\" variable metadata\n",
    "\n",
    "print(file_id.variables['AOD'])"
   ]
  },
  {
   "cell_type": "code",
   "execution_count": null,
   "metadata": {},
   "outputs": [],
   "source": [
    "# Block 5: Convert the AOD valid range given in metadata from unsigned integers to floats\n",
    "# Metadata indicate AOD data are stored as unsigned integers (\"uint16\")\n",
    "\n",
    "print('AOD range is', \n",
    "      (file_id.variables['AOD'].valid_range)*(file_id.variables['AOD'].scale_factor)+(file_id.variables['AOD'].add_offset))"
   ]
  },
  {
   "cell_type": "code",
   "execution_count": null,
   "metadata": {},
   "outputs": [],
   "source": [
    "# Block 6: Print the AOD data array and check the range of values\n",
    "# Note: AOD data are unitless (\"units\" = 1)\n",
    "\n",
    "# Read in AOD data\n",
    "# Metadata indicates data are 2-dimensional so use [:,:] to extract all data along axis-0, axis-1\n",
    "# Note: netCDF4 library automatically masks pixels (--) with missing data (i.e., \"_FillValue\") and applies the\n",
    "# \"scale_factor\" and \"add_offset\" to convert stored integers to floats\n",
    "abi_aod = file_id.variables['AOD'][:,:]\n",
    "\n",
    "# Print an excerpt of the AOD array (near the center) to see values\n",
    "print(abi_aod[2710:2714, 2710:2714])\n",
    "\n",
    "# Skip a line\n",
    "print('\\n')\n",
    "\n",
    "# Print max and min of AOD array to check data range\n",
    "print('The maximum AOD value is', np.max(abi_aod))\n",
    "print('The minimum AOD value is', np.min(abi_aod))\n",
    "\n",
    "# Check shape of array; should match dimensions of ('y', 'x')\n",
    "print('The AOD array shape is', abi_aod.shape)"
   ]
  },
  {
   "cell_type": "code",
   "execution_count": null,
   "metadata": {},
   "outputs": [],
   "source": [
    "# Block 7: Print the \"DQF\" variable metadata\n",
    "\n",
    "print(file_id.variables['DQF'])"
   ]
  },
  {
   "cell_type": "code",
   "execution_count": null,
   "metadata": {},
   "outputs": [],
   "source": [
    "# Block 8: Print the data quality flags array and check the range of values\n",
    "\n",
    "# Read in data quality flags\n",
    "# Metadata indicates data are 2-dimensional so use [:,:] to extract all data along axis-0, axis-1\n",
    "# Note: netCDF4 library automatically masks pixels (--) with missing data (i.e., \"_FillValue\")\n",
    "abi_dqf = file_id.variables['DQF'][:,:]\n",
    "\n",
    "# an excerpt of the DQF array (near the center) to see values\n",
    "print(abi_dqf[2710:2714, 2710:2714])\n",
    "\n",
    "# Skip a line\n",
    "print('\\n')\n",
    "\n",
    "# Print max and min of DQF array to check data range\n",
    "print('The maximum DQF value is', np.max(abi_dqf))\n",
    "print('The minimum DQF value is', np.min(abi_dqf))\n",
    "\n",
    "# Check shape of array; should match dimensions of ('y', 'x')\n",
    "print('The DQF array shape is', abi_dqf.shape)"
   ]
  },
  {
   "cell_type": "code",
   "execution_count": null,
   "metadata": {},
   "outputs": [],
   "source": [
    "# Block 9: Print metadata and array values for GOES ABI fixed grid projection x-coordinate variable\n",
    "\n",
    "# Print metadata\n",
    "print(file_id.variables['x'])\n",
    "\n",
    "# Read in GOES ABI fixed grid projection x-coordinate data\n",
    "# Metadata indicates data are 1-dimensional so use [:] to extract all data along axis-0\n",
    "x_coordinate = file_id.variables['x'][:]\n",
    "\n",
    "# Metadata indicates data are stored as integers (\"int16\") in the ABI file\n",
    "# Note: netCDF4 library automatically applies \"scale_factor\" and \"add_offset\" to covnvert stored integers to floats\n",
    "# Check data type of first value in array to confirm\n",
    "print('\\n')  # Skip a line\n",
    "print('Array data values are type', type(x_coordinate[0]))\n",
    "\n",
    "# Print the data array\n",
    "print(x_coordinate)\n",
    "\n",
    "# Check shape of array; should match dimensions of ('x')\n",
    "print('The x-coordinate array shape is', x_coordinate.shape)"
   ]
  },
  {
   "cell_type": "code",
   "execution_count": null,
   "metadata": {},
   "outputs": [],
   "source": [
    "# Block 10: Print metadata and array values for GOES ABI fixed grid projection y-coordinate variable\n",
    "\n",
    "# Print metadata\n",
    "print(file_id.variables['y'])\n",
    "\n",
    "# Read in GOES ABI fixed grid projection y-coordinate data\n",
    "# Metadata indicates data are 1-dimensional so use [:] to extract all data along axis-0\n",
    "y_coordinate = file_id.variables['y'][:]\n",
    "\n",
    "# Metadata indicates data are stored as integers (\"int16\") in the ABI file\n",
    "# Note: netCDF4 library automatically applies \"scale_factor\" and \"add_offset\" to covnvert stored integers to floats\n",
    "# Check data type of first value in array to confirm\n",
    "print('\\n')  # Skip a line\n",
    "print('Array data values are type', type(y_coordinate[0]))\n",
    "\n",
    "# Print the data array\n",
    "print(y_coordinate)\n",
    "\n",
    "# Check shape of array; should match dimensions of ('y')\n",
    "print('The y-coordinate array shape is', y_coordinate.shape)"
   ]
  },
  {
   "cell_type": "code",
   "execution_count": null,
   "metadata": {},
   "outputs": [],
   "source": [
    "# Block 11: Algorithm to calculate latitude and longitude from GOES ABI fixed grid projection data\n",
    "# GOES ABI fixed grid projection is a map projection relative to the GOES satellite\n",
    "# Units: latitude in °N (°S < 0), longitude in °E (°W < 0)\n",
    "# See GOES-R Product User Guide (PUG) Volume 5 (L2 products) Section 4.2.8 for details + example of calculations\n",
    "\n",
    "def degrees(file_id):\n",
    "    \n",
    "    # Read in GOES ABI fixed grid projection variables and constants\n",
    "    x_coordinate_1d = file_id.variables['x'][:]\n",
    "    y_coordinate_1d = file_id.variables['y'][:]\n",
    "    projection_info = file_id.variables['goes_imager_projection']\n",
    "    lon_origin = projection_info.longitude_of_projection_origin\n",
    "    H = projection_info.perspective_point_height+projection_info.semi_major_axis\n",
    "    r_eq = projection_info.semi_major_axis\n",
    "    r_pol = projection_info.semi_minor_axis\n",
    "    \n",
    "    # Create 2D coordinate matrices from 1D coordinate vectors\n",
    "    x_coordinate_2d, y_coordinate_2d = np.meshgrid(x_coordinate_1d, y_coordinate_1d)\n",
    "    \n",
    "    # Equations to calculate latitude and longitude\n",
    "    lambda_0 = (lon_origin*np.pi)/180.0  \n",
    "    a_var = np.power(np.sin(x_coordinate_2d),2.0) + (np.power(np.cos(x_coordinate_2d),2.0)*(np.power(np.cos(y_coordinate_2d),2.0)+(((r_eq*r_eq)/(r_pol*r_pol))*np.power(np.sin(y_coordinate_2d),2.0))))\n",
    "    b_var = -2.0*H*np.cos(x_coordinate_2d)*np.cos(y_coordinate_2d)\n",
    "    c_var = (H**2.0)-(r_eq**2.0)\n",
    "    r_s = (-1.0*b_var - np.sqrt((b_var**2)-(4.0*a_var*c_var)))/(2.0*a_var)\n",
    "    s_x = r_s*np.cos(x_coordinate_2d)*np.cos(y_coordinate_2d)\n",
    "    s_y = - r_s*np.sin(x_coordinate_2d)\n",
    "    s_z = r_s*np.cos(x_coordinate_2d)*np.sin(y_coordinate_2d)\n",
    "    \n",
    "    abi_lat = (180.0/np.pi)*(np.arctan(((r_eq*r_eq)/(r_pol*r_pol))*((s_z/np.sqrt(((H-s_x)*(H-s_x))+(s_y*s_y))))))\n",
    "    abi_lon = (lambda_0 - np.arctan(s_y/(H-s_x)))*(180.0/np.pi)\n",
    "    \n",
    "    return abi_lat, abi_lon"
   ]
  },
  {
   "cell_type": "code",
   "execution_count": null,
   "metadata": {},
   "outputs": [],
   "source": [
    "# Block 12: Print arrays of calculated latitude and longitude\n",
    "\n",
    "# Ignore numpy error warnings for sqrt of negative number; occurs for GOES-16 ABI CONUS sector data\n",
    "np.seterr(all='ignore')\n",
    "\n",
    "# Call function to calculate latitude and longitude from GOES ABI fixed grid projection data\n",
    "abi_lat, abi_lon = degrees(file_id)\n",
    "\n",
    "# Pring an excerpt of the latitude array (near the center) to see values\n",
    "print(abi_lat[2710:2714, 2710:2714])\n",
    "\n",
    "# Skip a line\n",
    "print('\\n')\n",
    "\n",
    "# Print max and min of latitude data to check data range\n",
    "print('The maximum latitude value is', np.max(abi_lat), 'degrees')\n",
    "print('The minimum latitude value is', np.min(abi_lat), 'degrees')\n",
    "\n",
    "# Check shape of array, should match shape of ('y', 'x')\n",
    "print('The latitude array shape is', abi_lat.shape)\n",
    "\n",
    "# Skip a line\n",
    "print('\\n')\n",
    "\n",
    "# Print an excerpt of the longitude array (near the center) to see values\n",
    "print(abi_lon[2710:2714, 2710:2714])\n",
    "\n",
    "# Skip a line\n",
    "print('\\n')\n",
    "\n",
    "# Print max and min of longitude data to check data range\n",
    "print('The maximum longitude value is', np.max(abi_lon), 'degrees')\n",
    "print('The minimum longitude value is', np.min(abi_lon), 'degrees')\n",
    "\n",
    "# Check shape of array; should match dimensions of ('y', 'x')\n",
    "print('The longitude array shape is', abi_lon.shape)"
   ]
  },
  {
   "cell_type": "code",
   "execution_count": null,
   "metadata": {},
   "outputs": [],
   "source": []
  }
 ],
 "metadata": {
  "kernelspec": {
   "display_name": "Python 3 (ipykernel)",
   "language": "python",
   "name": "python3"
  },
  "language_info": {
   "codemirror_mode": {
    "name": "ipython",
    "version": 3
   },
   "file_extension": ".py",
   "mimetype": "text/x-python",
   "name": "python",
   "nbconvert_exporter": "python",
   "pygments_lexer": "ipython3",
   "version": "3.9.12"
  },
  "varInspector": {
   "cols": {
    "lenName": 16,
    "lenType": 16,
    "lenVar": 40
   },
   "kernels_config": {
    "python": {
     "delete_cmd_postfix": "",
     "delete_cmd_prefix": "del ",
     "library": "var_list.py",
     "varRefreshCmd": "print(var_dic_list())"
    },
    "r": {
     "delete_cmd_postfix": ") ",
     "delete_cmd_prefix": "rm(",
     "library": "var_list.r",
     "varRefreshCmd": "cat(var_dic_list()) "
    }
   },
   "types_to_exclude": [
    "module",
    "function",
    "builtin_function_or_method",
    "instance",
    "_Feature"
   ],
   "window_display": false
  }
 },
 "nbformat": 4,
 "nbformat_minor": 4
}
