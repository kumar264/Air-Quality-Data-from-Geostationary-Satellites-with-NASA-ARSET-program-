{
 "cells": [
  {
   "cell_type": "code",
   "execution_count": null,
   "metadata": {
    "scrolled": true
   },
   "outputs": [],
   "source": [
    "# Block 0: Documentation\n",
    "\n",
    "print(\"This simple code prints the current version of Python running on the user's computer.\\n\")\n",
    "print(\"The code also checks if several Python packages (necessary for working with satellite data) are installed and prints the installed version of the package.\\n\")\n",
    "print(\"If a package is not installed, an error message will appear.  Install the indicated package and run the code again.\\n\")\n",
    "print(\"Author: Dr. Amy Huff (IMSG at NOAA/NESDIS/STAR), amy.huff@noaa.gov\\n\")"
   ]
  },
  {
   "cell_type": "code",
   "execution_count": null,
   "metadata": {
    "scrolled": true
   },
   "outputs": [],
   "source": [
    "# Block 1: Print version of Python and check installation/version of packages\n",
    "# If a package is not installed, an error will occur. Install the package and re-run this block.\n",
    "\n",
    "import sys\n",
    "import matplotlib\n",
    "import numpy\n",
    "import netCDF4\n",
    "import s3fs\n",
    "import cartopy\n",
    "\n",
    "print('Python version is', sys.version)\n",
    "print('Matplotlib version is', matplotlib.__version__)\n",
    "print('NumPy version is', numpy.__version__)\n",
    "print('netCDF4 version is', netCDF4.__version__)\n",
    "print('s3fs version is', s3fs.__version__)\n",
    "print('Cartopy version is', cartopy.__version__)"
   ]
  },
  {
   "cell_type": "code",
   "execution_count": null,
   "metadata": {},
   "outputs": [],
   "source": []
  }
 ],
 "metadata": {
  "kernelspec": {
   "display_name": "Python 3 (ipykernel)",
   "language": "python",
   "name": "python3"
  },
  "language_info": {
   "codemirror_mode": {
    "name": "ipython",
    "version": 3
   },
   "file_extension": ".py",
   "mimetype": "text/x-python",
   "name": "python",
   "nbconvert_exporter": "python",
   "pygments_lexer": "ipython3",
   "version": "3.9.12"
  },
  "varInspector": {
   "cols": {
    "lenName": 16,
    "lenType": 16,
    "lenVar": 40
   },
   "kernels_config": {
    "python": {
     "delete_cmd_postfix": "",
     "delete_cmd_prefix": "del ",
     "library": "var_list.py",
     "varRefreshCmd": "print(var_dic_list())"
    },
    "r": {
     "delete_cmd_postfix": ") ",
     "delete_cmd_prefix": "rm(",
     "library": "var_list.r",
     "varRefreshCmd": "cat(var_dic_list()) "
    }
   },
   "types_to_exclude": [
    "module",
    "function",
    "builtin_function_or_method",
    "instance",
    "_Feature"
   ],
   "window_display": false
  }
 },
 "nbformat": 4,
 "nbformat_minor": 4
}
